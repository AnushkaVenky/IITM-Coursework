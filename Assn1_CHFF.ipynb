{
 "cells": [
  {
   "cell_type": "code",
   "execution_count": 1,
   "id": "f07b911d",
   "metadata": {},
   "outputs": [
    {
     "name": "stdout",
     "output_type": "stream",
     "text": [
      "Solution: [156.9999994  266.9999988  364.9999988  482.9999992  572.99999973]\n",
      "Iterations: 50\n"
     ]
    }
   ],
   "source": [
    "# Function for a gauss siedel solver\n",
    "import numpy as np\n",
    "\n",
    "def gauss_seidel(A, b, iterations=50):\n",
    "    n = len(b)\n",
    "    x = np.zeros(n)\n",
    "    \n",
    "    for iteration in range(iterations):\n",
    "        x_new = np.copy(x)\n",
    "        \n",
    "        for i in range(n):\n",
    "            sum1 = sum(A[i][j] * x_new[j] for j in range(i))\n",
    "            sum2 = sum(A[i][j] * x[j] for j in range(i + 1, n))\n",
    "            x_new[i] = (b[i] - sum1 - sum2) / A[i][i]\n",
    "        \n",
    "        x = x_new\n",
    "    \n",
    "    return x, iterations\n",
    "\n",
    "\n",
    "A = np.array([[-3, 1, 0, 0, 0],\n",
    "              [1, -2, 1, 0, 0],\n",
    "              [0, 1, -2, 1, 0],\n",
    "              [0, 0, 1, -2, 1],\n",
    "              [0, 0, 0, 1, -3]], dtype=float)\n",
    "\n",
    "b = np.array([-204, -12, 20, -28, -1236], dtype=float)\n",
    "\n",
    "\n",
    "solution, iterations = gauss_seidel(A, b)\n",
    "print(\"Solution:\", solution)\n",
    "print(\"Iterations:\", iterations)\n"
   ]
  },
  {
   "cell_type": "code",
   "execution_count": null,
   "id": "cf1207d8",
   "metadata": {},
   "outputs": [],
   "source": []
  }
 ],
 "metadata": {
  "kernelspec": {
   "display_name": "Python 3 (ipykernel)",
   "language": "python",
   "name": "python3"
  },
  "language_info": {
   "codemirror_mode": {
    "name": "ipython",
    "version": 3
   },
   "file_extension": ".py",
   "mimetype": "text/x-python",
   "name": "python",
   "nbconvert_exporter": "python",
   "pygments_lexer": "ipython3",
   "version": "3.13.3"
  }
 },
 "nbformat": 4,
 "nbformat_minor": 5
}
